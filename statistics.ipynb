{
 "cells": [
  {
   "cell_type": "code",
   "execution_count": null,
   "metadata": {},
   "outputs": [],
   "source": [
    "import pandas as pd\n",
    "file_path = 'data/dataset.csv'  # Adjusted path for the dataset\n",
    "df = pd.read_csv(file_path)\n",
    "\n",
    "# Get statistics for bias_type\n",
    "bias_type_counts = df['bias_type'].value_counts()\n",
    "\n",
    "# Display statistics\n",
    "bias_type_counts\n"
   ]
  },
  {
   "cell_type": "code",
   "execution_count": null,
   "metadata": {},
   "outputs": [],
   "source": [
    "# Group by 'bias_type' and count 'type_category'\n",
    "type_counts = df.groupby(['bias_type', 'type_category']).size().unstack(fill_value=0)\n",
    "\n",
    "# Display the counts\n",
    "type_counts\n"
   ]
  },
  {
   "cell_type": "code",
   "execution_count": null,
   "metadata": {},
   "outputs": [],
   "source": [
    "# Count unique genders and their frequencies\n",
    "gender_counts = df['target_gender'].value_counts()\n",
    "\n",
    "# Display the results\n",
    "print(\"Number of genders represented:\", gender_counts.size)\n",
    "print(\"\\nCounts of each gender:\")\n",
    "print(gender_counts)"
   ]
  },
  {
   "cell_type": "code",
   "execution_count": null,
   "metadata": {},
   "outputs": [],
   "source": [
    "import matplotlib.pyplot as plt\n",
    "\n",
    "# Data\n",
    "categories = ['Stereotype', 'Anti-Stereotype']\n",
    "values = [70, 30]  # Replace with your percentages\n",
    "\n",
    "# Create a bar chart\n",
    "plt.bar(categories, values, color=['red', 'blue'])\n",
    "plt.ylabel('Percentage')\n",
    "plt.title('Model Choices: Stereotype vs Anti-Stereotype')\n",
    "plt.show()\n"
   ]
  },
  {
   "cell_type": "code",
   "execution_count": null,
   "metadata": {},
   "outputs": [],
   "source": []
  }
 ],
 "metadata": {
  "kernelspec": {
   "display_name": "venv",
   "language": "python",
   "name": "python3"
  },
  "language_info": {
   "codemirror_mode": {
    "name": "ipython",
    "version": 3
   },
   "file_extension": ".py",
   "mimetype": "text/x-python",
   "name": "python",
   "nbconvert_exporter": "python",
   "pygments_lexer": "ipython3",
   "version": "3.11.10"
  }
 },
 "nbformat": 4,
 "nbformat_minor": 2
}
