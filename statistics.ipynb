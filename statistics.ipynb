{
 "cells": [
  {
   "cell_type": "code",
   "execution_count": null,
   "metadata": {},
   "outputs": [],
   "source": [
    "import pandas as pd\n",
    "file_path = 'data/dataset.csv'  # Adjusted path for the dataset\n",
    "df = pd.read_csv(file_path)\n",
    "\n",
    "# Get statistics for bias_type\n",
    "bias_type_counts = df['bias_type'].value_counts()\n",
    "\n",
    "# Display statistics\n",
    "bias_type_counts\n"
   ]
  },
  {
   "cell_type": "code",
   "execution_count": null,
   "metadata": {},
   "outputs": [],
   "source": [
    "# Group by 'bias_type' and count 'type_category'\n",
    "type_counts = df.groupby(['bias_type', 'type_category']).size().unstack(fill_value=0)\n",
    "\n",
    "# Display the counts\n",
    "type_counts\n"
   ]
  },
  {
   "cell_type": "code",
   "execution_count": null,
   "metadata": {},
   "outputs": [],
   "source": [
    "# Count unique genders and their frequencies\n",
    "gender_counts = df['target_gender'].value_counts()\n",
    "\n",
    "# Display the results\n",
    "print(\"Number of genders represented:\", gender_counts.size)\n",
    "print(\"\\nCounts of each gender:\")\n",
    "print(gender_counts)"
   ]
  },
  {
   "cell_type": "code",
   "execution_count": null,
   "metadata": {},
   "outputs": [],
   "source": [
    "# Find rows with NaN values in 'context_norwegian'\n",
    "nan_rows = df[df['context_norwegian'].isna()]\n",
    "\n",
    "# Print the index and corresponding 'context' column\n",
    "for index, row in nan_rows.iterrows():\n",
    "    print(f\"Index: {index}, Original Context: {row['context']}\")\n"
   ]
  },
  {
   "cell_type": "code",
   "execution_count": null,
   "metadata": {},
   "outputs": [],
   "source": [
    "import matplotlib.pyplot as plt\n",
    "\n",
    "# Data\n",
    "categories = ['Stereotype', 'Anti-Stereotype']\n",
    "values = [70, 30]  # Replace with your percentages\n",
    "\n",
    "# Create a bar chart\n",
    "plt.bar(categories, values, color=['red', 'blue'])\n",
    "plt.ylabel('Percentage')\n",
    "plt.title('Model Choices: Stereotype vs Anti-Stereotype')\n",
    "plt.show()\n"
   ]
  },
  {
   "cell_type": "code",
   "execution_count": null,
   "metadata": {},
   "outputs": [],
   "source": [
    "# Function to count words in a column, handling NaN values\n",
    "def word_count(text):\n",
    "    return len(str(text).split()) if pd.notna(text) else 0\n",
    "\n",
    "# Apply word count to relevant columns\n",
    "df[\"stereotype_word_count\"] = df[\"stereotype\"].apply(word_count)\n",
    "df[\"anti_stereotype_word_count\"] = df[\"anti_stereotype\"].apply(word_count)\n",
    "df[\"unrelated_word_count\"] = df[\"unrelated\"].apply(word_count)\n",
    "\n",
    "# Group by bias_type, type_category, and word count, then count occurrences\n",
    "stereotype_counts = df.groupby([\"bias_type\", \"type_category\", \"stereotype_word_count\"]).size().reset_index(name=\"stereotype_count\")\n",
    "anti_stereotype_counts = df.groupby([\"bias_type\", \"type_category\", \"anti_stereotype_word_count\"]).size().reset_index(name=\"anti_stereotype_count\")\n",
    "unrelated_counts = df.groupby([\"bias_type\", \"type_category\", \"unrelated_word_count\"]).size().reset_index(name=\"unrelated_count\")\n",
    "\n",
    "# Rename word count columns before merging to avoid conflicts\n",
    "anti_stereotype_counts = anti_stereotype_counts.rename(columns={\"anti_stereotype_word_count\": \"word_count\"})\n",
    "unrelated_counts = unrelated_counts.rename(columns={\"unrelated_word_count\": \"word_count\"})\n",
    "stereotype_counts = stereotype_counts.rename(columns={\"stereotype_word_count\": \"word_count\"})\n",
    "\n",
    "# Merge counts based on bias_type, type_category, and word_count\n",
    "final_summary = (\n",
    "    stereotype_counts\n",
    "    .merge(anti_stereotype_counts, on=[\"bias_type\", \"type_category\", \"word_count\"], how=\"outer\")\n",
    "    .merge(unrelated_counts, on=[\"bias_type\", \"type_category\", \"word_count\"], how=\"outer\")\n",
    "    .fillna(0)  # Replace NaN with 0\n",
    ")\n",
    "\n",
    "# Convert counts to integers\n",
    "final_summary[[\"stereotype_count\", \"anti_stereotype_count\", \"unrelated_count\"]] = final_summary[[\"stereotype_count\", \"anti_stereotype_count\", \"unrelated_count\"]].astype(int)\n",
    "\n",
    "# Display the result\n",
    "print(final_summary)"
   ]
  }
 ],
 "metadata": {
  "kernelspec": {
   "display_name": "venv",
   "language": "python",
   "name": "python3"
  },
  "language_info": {
   "codemirror_mode": {
    "name": "ipython",
    "version": 3
   },
   "file_extension": ".py",
   "mimetype": "text/x-python",
   "name": "python",
   "nbconvert_exporter": "python",
   "pygments_lexer": "ipython3",
   "version": "3.11.5"
  }
 },
 "nbformat": 4,
 "nbformat_minor": 2
}
