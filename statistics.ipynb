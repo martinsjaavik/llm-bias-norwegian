{
 "cells": [
  {
   "cell_type": "code",
   "execution_count": null,
   "metadata": {},
   "outputs": [],
   "source": [
    "import pandas as pd\n",
    "file_path = 'data/dataset.csv'  # Adjusted path for the dataset\n",
    "df = pd.read_csv(file_path)\n",
    "\n",
    "# Get statistics for bias_type\n",
    "bias_type_counts = df['bias_type'].value_counts()\n",
    "\n",
    "# Display statistics\n",
    "bias_type_counts\n"
   ]
  },
  {
   "cell_type": "code",
   "execution_count": null,
   "metadata": {},
   "outputs": [],
   "source": [
    "# Group by 'bias_type' and count 'type_category'\n",
    "type_counts = df.groupby(['bias_type', 'type_category']).size().unstack(fill_value=0)\n",
    "\n",
    "# Display the counts\n",
    "type_counts\n"
   ]
  },
  {
   "cell_type": "code",
   "execution_count": null,
   "metadata": {},
   "outputs": [],
   "source": [
    "import pandas as pd\n",
    "file_path = 'data/dataset.csv'  # Adjusted path for the dataset\n",
    "df = pd.read_csv(file_path)\n",
    "\n",
    "\n",
    "# Group by type_category and target_gender, then count occurrences\n",
    "gender_by_type = df.groupby(['type_category', 'target_gender']).size().unstack(fill_value=0)\n",
    "\n",
    "# Display the results\n",
    "print(\"Gender distribution by type_category (type_1 and type_2):\\n\")\n",
    "print(gender_by_type)\n"
   ]
  },
  {
   "cell_type": "code",
   "execution_count": null,
   "metadata": {},
   "outputs": [],
   "source": [
    "# Find rows with NaN values in 'context_norwegian'\n",
    "nan_rows = df[df['context_norwegian'].isna()]\n",
    "\n",
    "# Print the index and corresponding 'context' column\n",
    "for index, row in nan_rows.iterrows():\n",
    "    print(f\"Index: {index}, Original Context: {row['context']}\")\n"
   ]
  },
  {
   "cell_type": "code",
   "execution_count": null,
   "metadata": {},
   "outputs": [],
   "source": [
    "# Function to count words in a column, handling NaN values\n",
    "def word_count(text):\n",
    "    return len(str(text).split()) if pd.notna(text) else 0\n",
    "\n",
    "# Apply word count to relevant columns\n",
    "df[\"stereotype_word_count\"] = df[\"stereotype\"].apply(word_count)\n",
    "df[\"anti_stereotype_word_count\"] = df[\"anti_stereotype\"].apply(word_count)\n",
    "df[\"unrelated_word_count\"] = df[\"unrelated\"].apply(word_count)\n",
    "\n",
    "# Group by bias_type, type_category, and word count, then count occurrences\n",
    "stereotype_counts = df.groupby([\"bias_type\", \"type_category\", \"stereotype_word_count\"]).size().reset_index(name=\"stereotype_count\")\n",
    "anti_stereotype_counts = df.groupby([\"bias_type\", \"type_category\", \"anti_stereotype_word_count\"]).size().reset_index(name=\"anti_stereotype_count\")\n",
    "unrelated_counts = df.groupby([\"bias_type\", \"type_category\", \"unrelated_word_count\"]).size().reset_index(name=\"unrelated_count\")\n",
    "\n",
    "# Rename word count columns before merging to avoid conflicts\n",
    "anti_stereotype_counts = anti_stereotype_counts.rename(columns={\"anti_stereotype_word_count\": \"word_count\"})\n",
    "unrelated_counts = unrelated_counts.rename(columns={\"unrelated_word_count\": \"word_count\"})\n",
    "stereotype_counts = stereotype_counts.rename(columns={\"stereotype_word_count\": \"word_count\"})\n",
    "\n",
    "# Merge counts based on bias_type, type_category, and word_count\n",
    "final_summary = (\n",
    "    stereotype_counts\n",
    "    .merge(anti_stereotype_counts, on=[\"bias_type\", \"type_category\", \"word_count\"], how=\"outer\")\n",
    "    .merge(unrelated_counts, on=[\"bias_type\", \"type_category\", \"word_count\"], how=\"outer\")\n",
    "    .fillna(0)  # Replace NaN with 0\n",
    ")\n",
    "\n",
    "# Convert counts to integers\n",
    "final_summary[[\"stereotype_count\", \"anti_stereotype_count\", \"unrelated_count\"]] = final_summary[[\"stereotype_count\", \"anti_stereotype_count\", \"unrelated_count\"]].astype(int)\n",
    "\n",
    "# Display the result\n",
    "print(final_summary)"
   ]
  },
  {
   "cell_type": "code",
   "execution_count": null,
   "metadata": {},
   "outputs": [],
   "source": [
    "import pandas as pd\n",
    "\n",
    "# Load the CSV file\n",
    "df = pd.read_csv('data/dataset.csv')\n",
    "\n",
    "# Ensure the column exists\n",
    "if 'context_norwegian' not in df.columns:\n",
    "    raise ValueError(\"Column 'context_norwegian' not found in the dataset.\")\n",
    "\n",
    "# Calculate sentence lengths (in number of characters)\n",
    "sentence_lengths = df['context_norwegian'].astype(str).apply(lambda x: len(x.split()))\n",
    "\n",
    "\n",
    "# Get shortest, longest, and average sentence lengths\n",
    "shortest = sentence_lengths.min()\n",
    "longest = sentence_lengths.max()\n",
    "average = sentence_lengths.mean()\n",
    "\n",
    "# Print results\n",
    "print(f\"Shortest sentence length: {shortest} words\")\n",
    "print(f\"Longest sentence length: {longest} words\")\n",
    "print(f\"Average sentence length: {average:.2f} words\")\n"
   ]
  }
 ],
 "metadata": {
  "kernelspec": {
   "display_name": "venv",
   "language": "python",
   "name": "python3"
  },
  "language_info": {
   "codemirror_mode": {
    "name": "ipython",
    "version": 3
   },
   "file_extension": ".py",
   "mimetype": "text/x-python",
   "name": "python",
   "nbconvert_exporter": "python",
   "pygments_lexer": "ipython3",
   "version": "3.11.5"
  }
 },
 "nbformat": 4,
 "nbformat_minor": 2
}
